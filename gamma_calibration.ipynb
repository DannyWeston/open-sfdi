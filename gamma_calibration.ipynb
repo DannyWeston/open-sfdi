{
 "cells": [
  {
   "cell_type": "markdown",
   "metadata": {},
   "source": [
    "# Gamma Correction of Projected Images"
   ]
  },
  {
   "cell_type": "code",
   "execution_count": 2,
   "metadata": {},
   "outputs": [],
   "source": [
    "import numpy as np\n",
    "import cv2\n",
    "import os\n",
    "\n",
    "from sfdi.calibration.gamma_calibration import GammaCalibration\n",
    "from matplotlib import pyplot as plt"
   ]
  },
  {
   "cell_type": "markdown",
   "metadata": {},
   "source": [
    "## Generate 'intensity_count' number of greyscale images\n",
    "\n",
    "Interpolates between complete black (0) and complete white (0)"
   ]
  },
  {
   "cell_type": "code",
   "execution_count": 3,
   "metadata": {},
   "outputs": [],
   "source": [
    "intensity_count = 32\n",
    "\n",
    "intensities = np.linspace(0, 255, intensity_count)"
   ]
  },
  {
   "cell_type": "markdown",
   "metadata": {},
   "source": [
    "## <font color='yellow'>*Optional*</font> - Write greyscale images to folder for external capture"
   ]
  },
  {
   "cell_type": "code",
   "execution_count": 19,
   "metadata": {},
   "outputs": [],
   "source": [
    "width, height = 1280, 720\n",
    "\n",
    "imgs = [(np.ones((height, width, 3)) * i).astype(np.uint8) for i in intensities] # 3 channels for rgb\n",
    "\n",
    "#img_out_dir = 'C:\\\\OneDrive\\\\OneDrive - The University of Nottingham\\\\university\\\\phd\\\\year1\\\\Code\\\\BlenderFPP\\\\Images\\\\gamma_calibration\\\\'\n",
    "img_out_dir = 'C:\\\\Users\\psydw2\\\\OneDrive - The University of Nottingham\\\\university\\\\phd\\\\year1\\\\Code\\\\BlenderFPP\\\\Images\\\\gamma_calibration'\n",
    "\n",
    "for i, img in enumerate(imgs):\n",
    "    cv2.imwrite(os.path.join(img_out_dir, f'calibration{i}.jpg'), img)"
   ]
  },
  {
   "cell_type": "markdown",
   "metadata": {},
   "source": [
    "## Load images from directory"
   ]
  },
  {
   "cell_type": "code",
   "execution_count": 6,
   "metadata": {},
   "outputs": [
    {
     "name": "stdout",
     "output_type": "stream",
     "text": [
      "32 images loaded\n"
     ]
    }
   ],
   "source": [
    "#img_in_dir = 'C:\\\\OneDrive\\\\OneDrive - The University of Nottingham\\\\university\\\\phd\\\\year1\\\\Code\\\\BlenderFPP\\\\Images\\\\gamma_calibration\\\\'\n",
    "img_in_dir = 'C:\\\\OneDrive\\\\OneDrive - The University of Nottingham\\\\university\\\\phd\\\\year1\\\\Code\\\\BlenderFPP\\\\Images\\\\gamma_calibration\\\\'\n",
    "\n",
    "captured_imgs = []\n",
    "for i in range(len(intensities)):\n",
    "    temp = cv2.imread(os.path.join(img_in_dir, f'result{i}.jpg')).astype(np.uint8)\n",
    "    captured_imgs.append(temp)\n",
    "\n",
    "print(f'{len(captured_imgs)} images loaded')"
   ]
  },
  {
   "cell_type": "markdown",
   "metadata": {},
   "source": [
    "## Calculate the Gamma Curve\n",
    "\n",
    "Calcuates average pixel value for captured imgs in a region of interest and determines the smallest recognisable \n",
    "change in intensity, i.e: a difference larger than delta.\n",
    "\n",
    "Order determines the polynomial order for the gamma calibration"
   ]
  },
  {
   "cell_type": "code",
   "execution_count": 10,
   "metadata": {},
   "outputs": [
    {
     "name": "stdout",
     "output_type": "stream",
     "text": [
      "[ 2.77781106e-08 -2.63562730e-05  9.88789741e-03 -1.83640281e+00\n",
      "  1.70092328e+02 -6.21606940e+03] [  8.22580645  16.4516129   24.67741935  32.90322581  41.12903226\n",
      "  49.35483871  57.58064516  65.80645161  74.03225806  82.25806452\n",
      "  90.48387097  98.70967742 106.93548387 115.16129032 123.38709677\n",
      " 131.61290323 139.83870968 148.06451613 156.29032258 164.51612903\n",
      " 172.74193548 180.96774194 189.19354839 197.41935484 205.64516129]\n"
     ]
    }
   ],
   "source": [
    "coeffs, values = GammaCalibration.calculate_curve(captured_imgs, intensities, delta=0.25, order=5)\n",
    "\n",
    "print(coeffs, values)"
   ]
  },
  {
   "cell_type": "markdown",
   "metadata": {},
   "source": [
    "## Test the calculated calibration curve"
   ]
  },
  {
   "cell_type": "code",
   "execution_count": 16,
   "metadata": {},
   "outputs": [],
   "source": [
    "def sinusoidal(width, height, freq, phase=0, orientation=(np.pi / 2.0)):\n",
    "    x, y = np.meshgrid(np.arange(width, dtype=np.uint8), np.arange(height, dtype=np.uint8))\n",
    "\n",
    "    gradient = np.sin(orientation) * x - np.cos(orientation) * y\n",
    "\n",
    "    return np.sin(((2.0 * np.pi * gradient) / freq) + phase)\n",
    "\n",
    "def normalise_image(img):\n",
    "    return ((img - img.min()) / (img.max() - img.min()))\n",
    "\n",
    "def generate_images(width: int, height: int, freq: float, orientation=(np.pi / 2.0), n: int=3):\n",
    "    imgs = []\n",
    "\n",
    "    for i in range(n):\n",
    "        img = sinusoidal(width, height, freq, 2.0 * i * np.pi / n, orientation)\n",
    "\n",
    "        # Normalise and convert to rgb8 range (change to correct datatype)\n",
    "        img = (normalise_image(img) * 255.0).astype(np.uint8)\n",
    "\n",
    "        imgs.append(img)\n",
    "\n",
    "    return imgs\n",
    "\n",
    "fringes = generate_images(1280, 720, 32.0)\n",
    "\n",
    "x1, x2 = values.min(), values.max()\n",
    "\n",
    "corrected_fringes = [gamma.apply_correction(fr.copy(), coeffs, x1, x2) for fr in fringes]\n"
   ]
  },
  {
   "cell_type": "markdown",
   "metadata": {},
   "source": [
    "## <font color='yellow'>*Optional*</font> - Save test calibration curve images"
   ]
  },
  {
   "cell_type": "code",
   "execution_count": 6,
   "metadata": {},
   "outputs": [],
   "source": [
    "path = 'C:\\\\Users\\\\psydw2\\\\OneDrive - The University of Nottingham\\\\university\\\\phd\\\\year1\\\\Code\\\\BlenderFPP\\\\fpp\\\\'\n",
    "\n",
    "for i, img in enumerate(fringes):\n",
    "    cv2.imwrite(os.path.join(path, f'original{i}.jpg'), img)\n",
    "\n",
    "for i, img in enumerate(corrected_fringes):\n",
    "    cv2.imwrite(os.path.join(path, f'corrected{i}.jpg'), img)"
   ]
  }
 ],
 "metadata": {
  "kernelspec": {
   "display_name": "blender-fpp",
   "language": "python",
   "name": "python3"
  },
  "language_info": {
   "codemirror_mode": {
    "name": "ipython",
    "version": 3
   },
   "file_extension": ".py",
   "mimetype": "text/x-python",
   "name": "python",
   "nbconvert_exporter": "python",
   "pygments_lexer": "ipython3",
   "version": "3.12.0"
  }
 },
 "nbformat": 4,
 "nbformat_minor": 2
}
